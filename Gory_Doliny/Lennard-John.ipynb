{
 "cells": [
  {
   "cell_type": "markdown",
   "metadata": {
    "colab_type": "text",
    "id": "-2PqSltqaxCD"
   },
   "source": [
    "# <center>Simulation of Lennard-John potential </center>"
   ]
  },
  {
   "cell_type": "markdown",
   "metadata": {},
   "source": [
    "#### This code is presentation of behaviour partitions in Lennard-John potential. We observe position and velocity of single partition and measure features of whole system like temporary temperature or pressure. We can also track the process of  phase transition from gas to solid state and measure characteristic average  distance between particles to identify physical state of our system.  "
   ]
  },
  {
   "cell_type": "code",
   "execution_count": 1,
   "metadata": {
    "colab": {
     "autoexec": {
      "startup": false,
      "wait_interval": 0
     }
    },
    "colab_type": "code",
    "collapsed": true,
    "id": "u2Pq8jIqaxCF"
   },
   "outputs": [],
   "source": [
    "import numpy as np\n",
    "import matplotlib.pyplot as plt\n",
    "from matplotlib.patches import Circle\n",
    "from tqdm import tqdm"
   ]
  },
  {
   "cell_type": "code",
   "execution_count": 2,
   "metadata": {
    "colab": {
     "autoexec": {
      "startup": false,
      "wait_interval": 0
     }
    },
    "colab_type": "code",
    "id": "FGTBLKWicH4r"
   },
   "outputs": [
    {
     "name": "stdout",
     "output_type": "stream",
     "text": [
      "Requirement already satisfied: tqdm in /home/filip/anaconda3/lib/python3.6/site-packages\r\n"
     ]
    }
   ],
   "source": [
    "!pip install tqdm"
   ]
  },
  {
   "cell_type": "code",
   "execution_count": 3,
   "metadata": {
    "colab": {
     "autoexec": {
      "startup": false,
      "wait_interval": 0
     }
    },
    "colab_type": "code",
    "collapsed": true,
    "id": "15IIxVoaaxCJ"
   },
   "outputs": [],
   "source": [
    "class czastka:\n",
    "    \n",
    "    def __init__(self, radius, pos,vel=[0,0],vel_past=[0,0],vel_futher=[0,0]):\n",
    "        self.rad = radius\n",
    "        self.r = pos\n",
    "        self.v = vel\n",
    "        self.v_minus = vel_past\n",
    "        self.v_plus = vel_futher \n",
    "        self.momentum = vel*m\n",
    "        \n",
    "\n",
    "def Sila(r1,r2):\n",
    "        r_vect=r1-r2\n",
    "        \n",
    "        if r_vect[0]>boxsize2:\n",
    "            r_vect[0]=r_vect[0]-boxsize\n",
    "        elif r_vect[0]<-boxsize2:\n",
    "            r_vect[0]=r_vect[0]+boxsize\n",
    "\n",
    "        if r_vect[1]>boxsize2:\n",
    "             r_vect[1]=r_vect[1]-boxsize\n",
    "        elif r_vect[1]<-boxsize2:\n",
    "            r_vect[1]=r_vect[1]+boxsize\n",
    "        \n",
    "        dlugosc=np.linalg.norm(r_vect)\n",
    "        \n",
    "        if(dlugosc>=2.5):\n",
    "            sila=[0,0]\n",
    "        else:\n",
    "            sila=48*eps/(sigma**2)*((sigma/dlugosc)**14-0.5*(sigma/dlugosc)**8)*r_vect\n",
    "        \n",
    "        return sila\n",
    "        \n",
    "\n",
    "def Temperatura(particles):\n",
    "    N = len(particles)\n",
    "    \n",
    "    T = (1./(boltzman_const*N)) * sum([np.linalg.norm(particles[i].momentum)**2/m for i in range(N)])\n",
    "    \n",
    "    return T\n",
    "\n",
    "def Skalowanie_temperatury(particles):\n",
    "    '''Skaluje prędkości cząstek aby ich średnia temperatura była równa zadanej'''\n",
    "    \n",
    "    for p in particles:\n",
    "        p.momentum *=np.sqrt(temp_termostat/temperatura_poczatkowa)\n",
    "        \n",
    "        \n",
    "def Suma_sil(particles):\n",
    "    forces =[]\n",
    "    for i, particle1 in enumerate(particles):#i to indeks do elementu particle1\n",
    "        force=np.zeros(2)\n",
    "        for particle2 in particles[:i]+particles[i+1:]:\n",
    "            force+=Sila(particle1.r,particle2.r)\n",
    "        \n",
    "        forces.append(force)\n",
    "    return forces\n",
    "\n",
    "\n",
    "def frog(particles,sila):\n",
    "    for i,p in enumerate(particles):\n",
    "        p.v=p.v_minus+(sila[i]/m)*(deltat/2)\n",
    "        p.momentum=p.v*m\n",
    "    \n",
    "    T=Temperatura(particles)\n",
    "    eta=np.sqrt(temp_termostat/T)\n",
    "    \n",
    "    for i,p in enumerate(particles):\n",
    "        p.v=p.v_minus+(sila[i]/m)*(deltat/2)\n",
    "        p.momentum=p.v*m\n",
    "        p.v_plus=(2*eta-1)*p.v_minus + eta*(sila[i]/m)*deltat\n",
    "        p.r+=p.v_plus*deltat\n",
    "        p.v_minus=p.v_plus\n",
    "        \n",
    "        \n",
    "\n",
    "def Suma_sil_wektor(particles):\n",
    "    forces =[]\n",
    "    odleglosci=[]\n",
    "    iloczyn_sila_polozenie=0\n",
    "    for i, particle1 in enumerate(particles):#i to indeks do elementu particle1\n",
    "        force=[]\n",
    "        odleglosc=[]\n",
    "        for particle2 in particles[:i]+particles[i+1:]:\n",
    "            s=Sila(particle1.r,particle2.r)\n",
    "            force.append(s)\n",
    "            r=particle1.r-particle2.r\n",
    "            odleglosc.append(r)\n",
    "            iloczyn_sila_polozenie+=sum(s*r)\n",
    "        forces.append(force)\n",
    "        odleglosci.append(odleglosc)\n",
    "    return np.array(forces),np.array(odleglosci),iloczyn_sila_polozenie      \n",
    "        \n",
    "        \n",
    "        \n",
    "def Cisnienie(particles):\n",
    "    N=len(particles)\n",
    "    F_cisnienia,R_cisnienia,iloczyn = Suma_sil_wektor(particles)\n",
    "    T= Temperatura(particles)\n",
    "    V=boxsize*boxsize\n",
    "    \n",
    "#     for i in range(N):\n",
    "#         iloczyn_sila_polozenie+=np.sum(np.dot(F_cisnienia[i],particles[i].r))\n",
    "    \n",
    "        \n",
    "        \n",
    "    cisnienie = N*T/V +(1/2*V)*iloczyn\n",
    "    return cisnienie\n",
    "\n",
    "\n",
    "def Energia_kinetyczna(particles):\n",
    "    Energia=0\n",
    "    for p in particles:\n",
    "        Energia+=1/2.*m*np.dot(p.v,p.v)\n",
    "    return Energia\n",
    "\n",
    "def Energia_potencjalna(particles):\n",
    "    energy=0\n",
    "    for i, particle1 in enumerate(particles):#i to indeks do elementu particle1\n",
    "        for particle2 in particles[:i]+particles[i+1:]:\n",
    "            energy+=LJPotential(particle1.r,particle2.r)\n",
    "        \n",
    "    return energy\n",
    "\n",
    "def LJPotential(r1,r2):\n",
    "        r_vect=r1-r2\n",
    "        \n",
    "        if r_vect[0]>boxsize2:\n",
    "            r_vect[0]=r_vect[0]-boxsize\n",
    "        elif r_vect[0]<-boxsize2:\n",
    "            r_vect[0]=r_vect[0]+boxsize\n",
    "\n",
    "        if r_vect[1]>boxsize2:\n",
    "             r_vect[1]=r_vect[1]-boxsize\n",
    "        elif r_vect[1]<-boxsize2:\n",
    "            r_vect[1]=r_vect[1]+boxsize\n",
    "        \n",
    "\n",
    "\n",
    "        dlugosc=np.linalg.norm(r_vect)\n",
    "        \n",
    "        potential=4*eps*((sigma/dlugosc)**12-(sigma/dlugosc)**6)\n",
    "        return potential"
   ]
  },
  {
   "cell_type": "code",
   "execution_count": 4,
   "metadata": {
    "colab": {
     "autoexec": {
      "startup": false,
      "wait_interval": 0
     }
    },
    "colab_type": "code",
    "collapsed": true,
    "id": "eXGaEauvaxCL"
   },
   "outputs": [],
   "source": [
    "#Warunki początkowe oraz stałe\n",
    "boxsize = 10.0\n",
    "boxsize2= boxsize/2\n",
    "eps = 1.0\n",
    "sigma = 1.0\n",
    "promien = 0.5\n",
    "deltat = 0.0001\n",
    "temp_termostat=2.0#zamarzanie dla 0.3\n",
    "nx = 7\n",
    "ny = 7  # wielkosc siatki do generowania cząstek\n",
    "delta = 1.1\n",
    "t_max = 10\n",
    "particleNumber = nx*ny\n",
    "m = 1\n",
    "boltzman_const=1.\n",
    "density=(particleNumber/(boxsize*boxsize))*sigma**2"
   ]
  },
  {
   "cell_type": "code",
   "execution_count": 8,
   "metadata": {
    "colab": {
     "autoexec": {
      "startup": false,
      "wait_interval": 0
     },
     "base_uri": "https://localhost:8080/",
     "height": 34,
     "output_extras": [
      {
       "item_id": 1
      }
     ]
    },
    "colab_type": "code",
    "executionInfo": {
     "elapsed": 531,
     "status": "ok",
     "timestamp": 1519110943562,
     "user": {
      "displayName": "Filip Kowalski",
      "photoUrl": "https://lh3.googleusercontent.com/a/default-user=s128",
      "userId": "114292276806782736788"
     },
     "user_tz": -60
    },
    "id": "j8vWunsvaxCO",
    "outputId": "14e72f43-eff2-460c-f143-d32779412b6c"
   },
   "outputs": [
    {
     "data": {
      "text/plain": [
       "0.49"
      ]
     },
     "execution_count": 8,
     "metadata": {},
     "output_type": "execute_result"
    }
   ],
   "source": [
    "density"
   ]
  },
  {
   "cell_type": "code",
   "execution_count": 9,
   "metadata": {
    "colab": {
     "autoexec": {
      "startup": false,
      "wait_interval": 0
     }
    },
    "colab_type": "code",
    "collapsed": true,
    "id": "ATAsYCRNaxCV"
   },
   "outputs": [],
   "source": [
    "particles=[]\n",
    "for i in range(nx):  # generowanie punktów sieci,inicjalizacja polożeń i prędkości\n",
    "    for j in range(ny):\n",
    "        polozenie = np.array([i * delta + boxsize / nx, j * delta + boxsize / ny])\n",
    "        predkosc = np.array([(np.random.random() - 1. / 2), (np.random.random() - 1. / 2)])\n",
    "        p0=predkosc*m\n",
    "        particles.append(czastka(promien,polozenie,predkosc,vel_past=[0,0],vel_futher=[0,0]))\n",
    "\n",
    "    "
   ]
  },
  {
   "cell_type": "code",
   "execution_count": 11,
   "metadata": {
    "colab": {
     "autoexec": {
      "startup": false,
      "wait_interval": 0
     },
     "base_uri": "https://localhost:8080/",
     "height": 51,
     "output_extras": [
      {
       "item_id": 1
      }
     ]
    },
    "colab_type": "code",
    "executionInfo": {
     "elapsed": 618,
     "status": "ok",
     "timestamp": 1519110945679,
     "user": {
      "displayName": "Filip Kowalski",
      "photoUrl": "https://lh3.googleusercontent.com/a/default-user=s128",
      "userId": "114292276806782736788"
     },
     "user_tz": -60
    },
    "id": "tz4_wLaoaxCY",
    "outputId": "9396bc08-ca8f-4ff0-d385-5c215e329b21"
   },
   "outputs": [
    {
     "name": "stdout",
     "output_type": "stream",
     "text": [
      "2.0\n",
      "2.0\n"
     ]
    }
   ],
   "source": [
    "temperatura_poczatkowa=Temperatura(particles)\n",
    "print(temperatura_poczatkowa)\n",
    "Skalowanie_temperatury(particles)\n",
    "\n",
    "#ustawianie czasu ujemnego\n",
    "suma=Suma_sil(particles)\n",
    "for i, p in enumerate(particles):\n",
    "    p.v=p.momentum/m\n",
    "    p.v_minus=p.v - 0.5*suma[i]/m*deltat \n",
    "\n",
    "print(Temperatura(particles))"
   ]
  },
  {
   "cell_type": "code",
   "execution_count": 12,
   "metadata": {
    "colab": {
     "autoexec": {
      "startup": false,
      "wait_interval": 0
     }
    },
    "colab_type": "code",
    "collapsed": true,
    "id": "ROrz5wkIaxCc"
   },
   "outputs": [],
   "source": [
    "def Distance_from_particle(particles,choosen_particle=7,delta_r=0.03):\n",
    "    \n",
    "        \n",
    "    rho_list_all=[]\n",
    "        \n",
    "        \n",
    "    \n",
    "    for choosen_particle,j in enumerate(particles): \n",
    "\n",
    "\n",
    "        dlugosc=[]\n",
    "        for i,particle in enumerate(particles):\n",
    "\n",
    "            vector_from_choosen=particles[choosen_particle].r-particle.r\n",
    "\n",
    "            if vector_from_choosen[0]>boxsize2:\n",
    "                vector_from_choosen[0]=vector_from_choosen[0]-boxsize\n",
    "            elif vector_from_choosen[0]<-boxsize2:\n",
    "                vector_from_choosen[0]=vector_from_choosen[0]+boxsize\n",
    "\n",
    "            if vector_from_choosen[1]>boxsize2:\n",
    "                 vector_from_choosen[1]=vector_from_choosen[1]-boxsize\n",
    "            elif vector_from_choosen[1]<-boxsize2:\n",
    "                vector_from_choosen[1]=vector_from_choosen[1]+boxsize\n",
    "\n",
    "            dlugosc.append(np.linalg.norm(vector_from_choosen))\n",
    "\n",
    "\n",
    "    #     print(dlugosc)\n",
    "        rho_list=[]\n",
    "        r_list=[]\n",
    "        r=delta_r\n",
    "        while r<3.5:\n",
    "            n=0\n",
    "            for i in dlugosc:\n",
    "                if i > r and i< r +delta_r:\n",
    "                    n+=1\n",
    "            rho_list.append((1/density)*n/(2*np.pi*r*delta_r))\n",
    "    #         print(n)\n",
    "            r_list.append(r)\n",
    "            r+=delta_r\n",
    "        rho_list_all.append([rho_list])\n",
    "    rho_list_all=np.sum(rho_list_all,axis=0)/particleNumber\n",
    "    \n",
    "    return rho_list_all[0],r_list"
   ]
  },
  {
   "cell_type": "code",
   "execution_count": 19,
   "metadata": {
    "colab": {
     "autoexec": {
      "startup": false,
      "wait_interval": 0
     },
     "base_uri": "https://localhost:8080/",
     "height": 68,
     "output_extras": [
      {
       "item_id": 10227
      },
      {
       "item_id": 20726
      },
      {
       "item_id": 21849
      }
     ]
    },
    "colab_type": "code",
    "id": "7bHCKWbcaxC3",
    "outputId": "30fe9938-27ff-4ce0-d5aa-10e8580c70f1"
   },
   "outputs": [
    {
     "name": "stderr",
     "output_type": "stream",
     "text": [
      "100%|██████████| 70000/70000 [1:26:55<00:00, 13.42it/s]\n",
      "100%|██████████| 40000/40000 [56:34<00:00, 11.78it/s]\n",
      "100%|██████████| 40000/40000 [56:40<00:00, 11.76it/s]\n",
      "100%|██████████| 40000/40000 [56:37<00:00, 11.77it/s]\n",
      "100%|██████████| 40000/40000 [56:32<00:00, 11.79it/s]\n",
      "100%|██████████| 40000/40000 [56:40<00:00, 11.76it/s]\n"
     ]
    }
   ],
   "source": [
    "en=0 #numer klatki\n",
    "t=0\n",
    "Cisnienie_list =[]\n",
    "Temperatura_list =[]\n",
    "Moment_in_time=[]\n",
    "Energia_kinetyczna_list=[]\n",
    "Energia_potencjalna_list=[]\n",
    "Prędkości_list=[]\n",
    "rho_l=0\n",
    "r_l=0\n",
    "rang=70000\n",
    "how_many_sum=0\n",
    "for itrations in tqdm(range(rang)):\n",
    "    \n",
    "    forces=Suma_sil(particles)\n",
    "    \n",
    "    frog(particles,forces)\n",
    "    #implementacja perjodycznych warunków brzegowych\n",
    "    for p in particles:\n",
    "        if p.r[1] >= boxsize:\n",
    "            p.r[1] -= boxsize\n",
    "        if p.r[1] <= 0:\n",
    "            p.r[1] += boxsize\n",
    "\n",
    "        if p.r[0] >= boxsize:\n",
    "            p.r[0] -= boxsize\n",
    "        if p.r[0] <= 0:\n",
    "            p.r[0] += boxsize\n",
    "    \n",
    "#     T=Temperatura(particles)\n",
    "#     P=Cisnienie(particles)\n",
    "#     Ek=Energia_kinetyczna(particles)\n",
    "#     Ep=Energia_potencjalna(particles)\n",
    "    \n",
    "#     Energia_potencjalna_list.append(Ep)\n",
    "#     Energia_kinetyczna_list.append(Ek)\n",
    "#     Temperatura_list.append(T)\n",
    "#     Cisnienie_list.append(P)\n",
    "#     Moment_in_time.append(t)\n",
    "    \n",
    "    t+=deltat\n",
    "    \n",
    "    \n",
    "    if (itrations >(rang-10000)):#20000\n",
    "        rho,r=Distance_from_particle(particles,choosen_particle=1)\n",
    "        rho_l+=np.asarray(rho)\n",
    "        \n",
    "        r_l=np.asarray(r)\n",
    "        how_many_sum+=1\n",
    "\n",
    "    if (en % 1000 == 0):\n",
    "\n",
    "            plt.clf()  # czysczenie obrazka\n",
    "            \n",
    "            F = plt.gcf()  # zdefiniuj nowy\n",
    "            for i in range(particleNumber):\n",
    "                \n",
    "                p = particles[i]\n",
    "                color = 'b'\n",
    "                a = plt.gca()\n",
    "#                 if (i == 7):      #Do śledzenia położenia konkretnej cząstki\n",
    "#                     color = 'r'\n",
    "                color = plt.cm.summer(np.linalg.norm(p.v_plus)/temp_termostat)\n",
    "                cir = Circle((p.r[0], p.r[1]), radius=p.rad, color=color)\n",
    "                a.add_patch(cir)\n",
    "                plt.plot()\n",
    "            plt.xlim((0, boxsize))\n",
    "            plt.ylim((0, boxsize))\n",
    "            F.set_size_inches((6, 6))#ustawić na 6,6\n",
    "            nStr = str(en)\n",
    "            nStr = nStr.rjust(6, '0')\n",
    "            plt.title(\"Symulacja gazu Lennarda-Jonesa dla temperatury\"+\"%.2f\" % temp_termostat)#, krok \" + nStr)\n",
    "            \n",
    "            \n",
    "            \n",
    "            \n",
    "            plt.savefig('img' + nStr + '.png')\n",
    "            plt.clf()  # czysczenie obrazka\n",
    "            \n",
    "    en += 1\n",
    "rho_l=rho_l/how_many_sum\n",
    "\n",
    "plt.scatter(r_l,rho_l)\n",
    "# plt.show()\n",
    "plt.savefig(\"%.2f.png\" % temp_termostat)\n",
    "plt.clf()\n",
    "\n",
    "\n",
    "#ochładzanie\n",
    "rang=40000\n",
    "\n",
    "\n",
    "\n",
    "for temp in np.linspace(temp_termostat,temp_termostat/2.,num=5):\n",
    "    temp_termostat=temp\n",
    "    rho_l=0\n",
    "    r_l=0\n",
    "    how_many_sum=0\n",
    "    \n",
    "    \n",
    "    for itrations in tqdm(range(rang)):\n",
    "    \n",
    "        forces=Suma_sil(particles)\n",
    "\n",
    "        frog(particles,forces)\n",
    "        #implementacja perjodycznych warunków brzegowych\n",
    "        for p in particles:\n",
    "            if p.r[1] >= boxsize:\n",
    "                p.r[1] -= boxsize\n",
    "            if p.r[1] <= 0:\n",
    "                p.r[1] += boxsize\n",
    "\n",
    "            if p.r[0] >= boxsize:\n",
    "                p.r[0] -= boxsize\n",
    "            if p.r[0] <= 0:\n",
    "                p.r[0] += boxsize\n",
    "\n",
    "    #     T=Temperatura(particles)\n",
    "    #     P=Cisnienie(particles)\n",
    "    #     Ek=Energia_kinetyczna(particles)\n",
    "    #     Ep=Energia_potencjalna(particles)\n",
    "\n",
    "    #     Energia_potencjalna_list.append(Ep)\n",
    "    #     Energia_kinetyczna_list.append(Ek)\n",
    "    #     Temperatura_list.append(T)\n",
    "    #     Cisnienie_list.append(P)\n",
    "    #     Moment_in_time.append(t)\n",
    "\n",
    "        t+=deltat\n",
    "\n",
    "\n",
    "        if (itrations >(rang-10000)):#20000\n",
    "            rho,r=Distance_from_particle(particles,choosen_particle=1)\n",
    "            rho_l+=np.asarray(rho)\n",
    "\n",
    "            r_l=np.asarray(r)\n",
    "            how_many_sum+=1\n",
    "\n",
    "        if (en % 1000 == 0):\n",
    "\n",
    "                plt.clf()  # czysczenie obrazka\n",
    "\n",
    "                F = plt.gcf()  # zdefiniuj nowy\n",
    "                for i in range(particleNumber):\n",
    "\n",
    "                    p = particles[i]\n",
    "                    color = 'b'\n",
    "                    a = plt.gca()\n",
    "    #                 if (i == 7):      #Do śledzenia położenia konkretnej cząstki\n",
    "    #                     color = 'r'\n",
    "                    color = plt.cm.summer(np.linalg.norm(p.v_plus)/temp_termostat)\n",
    "                    cir = Circle((p.r[0], p.r[1]), radius=p.rad, color=color)\n",
    "                    a.add_patch(cir)\n",
    "                    plt.plot()\n",
    "                plt.xlim((0, boxsize))\n",
    "                plt.ylim((0, boxsize))\n",
    "                F.set_size_inches((6, 6))#ustawić na 6,6\n",
    "                nStr = str(en)\n",
    "                nStr = nStr.rjust(6, '0')\n",
    "                plt.title(\"Symulacja gazu Lennarda-Jonesa dla temperatury\"+\"%.2f\" % temp_termostat)#, krok \" + nStr)\n",
    "\n",
    "\n",
    "\n",
    "\n",
    "                plt.savefig('img' + nStr + '.png')\n",
    "                plt.clf()  # czysczenie obrazka\n",
    "\n",
    "        en += 1\n",
    "    rho_l=rho_l/how_many_sum\n",
    "\n",
    "    plt.scatter(r_l,rho_l)\n",
    "    # plt.show()\n",
    "    plt.savefig(\"%.2f.png\" % temp_termostat)\n",
    "    plt.clf()"
   ]
  },
  {
   "cell_type": "code",
   "execution_count": 20,
   "metadata": {
    "colab": {
     "autoexec": {
      "startup": false,
      "wait_interval": 0
     }
    },
    "colab_type": "code",
    "id": "A_K7lnEMD7Fx"
   },
   "outputs": [
    {
     "name": "stderr",
     "output_type": "stream",
     "text": [
      "100%|██████████| 40000/40000 [56:30<00:00, 11.80it/s]\n",
      "100%|██████████| 40000/40000 [56:21<00:00, 11.83it/s]\n",
      "100%|██████████| 40000/40000 [56:21<00:00, 11.83it/s]\n",
      "100%|██████████| 40000/40000 [56:25<00:00, 11.82it/s]\n",
      "100%|██████████| 40000/40000 [56:23<00:00, 11.82it/s]\n"
     ]
    }
   ],
   "source": [
    "#ochładzanie\n",
    "rang=40000\n",
    "\n",
    "\n",
    "\n",
    "for temp in np.linspace(temp_termostat,0.01,num=5):\n",
    "    temp_termostat=temp\n",
    "    rho_l=0\n",
    "    r_l=0\n",
    "    how_many_sum=0\n",
    "    \n",
    "    \n",
    "    for itrations in tqdm(range(rang)):\n",
    "    \n",
    "        forces=Suma_sil(particles)\n",
    "\n",
    "        frog(particles,forces)\n",
    "        #implementacja perjodycznych warunków brzegowych\n",
    "        for p in particles:\n",
    "            if p.r[1] >= boxsize:\n",
    "                p.r[1] -= boxsize\n",
    "            if p.r[1] <= 0:\n",
    "                p.r[1] += boxsize\n",
    "\n",
    "            if p.r[0] >= boxsize:\n",
    "                p.r[0] -= boxsize\n",
    "            if p.r[0] <= 0:\n",
    "                p.r[0] += boxsize\n",
    "\n",
    "    #     T=Temperatura(particles)\n",
    "    #     P=Cisnienie(particles)\n",
    "    #     Ek=Energia_kinetyczna(particles)\n",
    "    #     Ep=Energia_potencjalna(particles)\n",
    "\n",
    "    #     Energia_potencjalna_list.append(Ep)\n",
    "    #     Energia_kinetyczna_list.append(Ek)\n",
    "    #     Temperatura_list.append(T)\n",
    "    #     Cisnienie_list.append(P)\n",
    "    #     Moment_in_time.append(t)\n",
    "\n",
    "        t+=deltat\n",
    "\n",
    "\n",
    "        if (itrations >(rang-10000)):#20000\n",
    "            rho,r=Distance_from_particle(particles,choosen_particle=1)\n",
    "            rho_l+=np.asarray(rho)\n",
    "\n",
    "            r_l=np.asarray(r)\n",
    "            how_many_sum+=1\n",
    "\n",
    "        if (en % 1000 == 0):\n",
    "\n",
    "                plt.clf()  # czysczenie obrazka\n",
    "\n",
    "                F = plt.gcf()  # zdefiniuj nowy\n",
    "                for i in range(particleNumber):\n",
    "\n",
    "                    p = particles[i]\n",
    "                    color = 'b'\n",
    "                    a = plt.gca()\n",
    "    #                 if (i == 7):      #Do śledzenia położenia konkretnej cząstki\n",
    "    #                     color = 'r'\n",
    "                    color = plt.cm.summer(np.linalg.norm(p.v_plus)/temp_termostat)\n",
    "                    cir = Circle((p.r[0], p.r[1]), radius=p.rad, color=color)\n",
    "                    a.add_patch(cir)\n",
    "                    plt.plot()\n",
    "                plt.xlim((0, boxsize))\n",
    "                plt.ylim((0, boxsize))\n",
    "                F.set_size_inches((6, 6))#ustawić na 6,6\n",
    "                nStr = str(en)\n",
    "                nStr = nStr.rjust(6, '0')\n",
    "                plt.title(\"Symulacja gazu Lennarda-Jonesa dla temperatury\"+\"%.2f\" % temp_termostat)#, krok \" + nStr)\n",
    "\n",
    "\n",
    "\n",
    "\n",
    "                plt.savefig('img' + nStr + '.png')\n",
    "                plt.clf()  # czysczenie obrazka\n",
    "\n",
    "        en += 1\n",
    "    rho_l=rho_l/how_many_sum\n",
    "\n",
    "    plt.scatter(r_l,rho_l)\n",
    "    # plt.show()\n",
    "    plt.savefig(\"%.2f.png\" % temp_termostat)\n",
    "    plt.clf()"
   ]
  },
  {
   "cell_type": "code",
   "execution_count": 0,
   "metadata": {
    "colab": {
     "autoexec": {
      "startup": false,
      "wait_interval": 0
     }
    },
    "colab_type": "code",
    "collapsed": true,
    "id": "nwhVDuA0cw1Y"
   },
   "outputs": [],
   "source": [
    "!ls"
   ]
  },
  {
   "cell_type": "code",
   "execution_count": 0,
   "metadata": {
    "colab": {
     "autoexec": {
      "startup": false,
      "wait_interval": 0
     }
    },
    "colab_type": "code",
    "collapsed": true,
    "id": "2YFJvA90dn6M"
   },
   "outputs": [],
   "source": [
    "!zip -r sym.zip /content/"
   ]
  },
  {
   "cell_type": "code",
   "execution_count": 0,
   "metadata": {
    "colab": {
     "autoexec": {
      "startup": false,
      "wait_interval": 0
     }
    },
    "colab_type": "code",
    "collapsed": true,
    "id": "wWNZNn-vdukn"
   },
   "outputs": [],
   "source": [
    "# Install the PyDrive wrapper & import libraries.\n",
    "# This only needs to be done once in a notebook.\n",
    "!pip install -U -q PyDrive\n",
    "from pydrive.auth import GoogleAuth\n",
    "from pydrive.drive import GoogleDrive\n",
    "from google.colab import auth\n",
    "from oauth2client.client import GoogleCredentials\n",
    "\n",
    "# Authenticate and create the PyDrive client.\n",
    "# This only needs to be done once in a notebook.\n",
    "auth.authenticate_user()\n",
    "gauth = GoogleAuth()\n",
    "gauth.credentials = GoogleCredentials.get_application_default()\n",
    "drive = GoogleDrive(gauth)\n",
    "\n",
    "# Create & upload a file.\n",
    "uploaded = drive.CreateFile({'title': 'sym.zip'})\n",
    "uploaded.SetContentFile('sym.zip')\n",
    "uploaded.Upload()\n",
    "print('Uploaded file with ID {}'.format(uploaded.get('id')))"
   ]
  },
  {
   "cell_type": "code",
   "execution_count": 0,
   "metadata": {
    "colab": {
     "autoexec": {
      "startup": false,
      "wait_interval": 0
     }
    },
    "colab_type": "code",
    "collapsed": true,
    "id": "mYQD6d5RaxDO"
   },
   "outputs": [],
   "source": [
    "plt.figure()\n",
    "plt.xlabel('Czas [s]')\n",
    "plt.suptitle('Gestosć = %s' %density)\n",
    "plt.ylabel('Temperatura [K]')\n",
    "plt.scatter(Moment_in_time,Temperatura_list,s=.1)\n",
    "plt.xlabel('Czas[s]')\n",
    "# plt.tight_layout()\n",
    "# plt.subplots_adjust(left=0.2, wspace=0.8, top=0.8)\n",
    "plt.savefig('czas_temperatura')\n",
    "plt.show()"
   ]
  },
  {
   "cell_type": "code",
   "execution_count": 0,
   "metadata": {
    "colab": {
     "autoexec": {
      "startup": false,
      "wait_interval": 0
     }
    },
    "colab_type": "code",
    "collapsed": true,
    "id": "YCw0W9m8axDR"
   },
   "outputs": [],
   "source": [
    "plt.figure()\n",
    "plt.xlabel('Czas [s]')\n",
    "plt.ylabel('Cisnienie [a.u]')\n",
    "plt.plot(Moment_in_time,Cisnienie_list,lw=1)\n",
    "plt.xlabel('Czas[s]')\n",
    "plt.tight_layout()\n",
    "plt.subplots_adjust(left=0.2, wspace=0.8, top=0.8)\n",
    "plt.savefig('czas_cisnienie.png')\n",
    "plt.show()"
   ]
  },
  {
   "cell_type": "code",
   "execution_count": 0,
   "metadata": {
    "colab": {
     "autoexec": {
      "startup": false,
      "wait_interval": 0
     }
    },
    "colab_type": "code",
    "collapsed": true,
    "id": "7v0uPnWkaxDU"
   },
   "outputs": [],
   "source": [
    "Energia_calkowita_list=np.add(Energia_kinetyczna_list,Energia_potencjalna_list)\n",
    "len(Energia_calkowita_list)"
   ]
  },
  {
   "cell_type": "code",
   "execution_count": 0,
   "metadata": {
    "colab": {
     "autoexec": {
      "startup": false,
      "wait_interval": 0
     }
    },
    "colab_type": "code",
    "collapsed": true,
    "id": "RcgYc4hfaxDX"
   },
   "outputs": [],
   "source": [
    "plt.figure(figsize=[10,11])\n",
    "plt.plot(Moment_in_time,Energia_kinetyczna_list,lw=1,label='Energia kinetyczna')\n",
    "\n",
    "\n",
    "plt.plot(Moment_in_time,Energia_potencjalna_list,lw=1,label='Energia potencjalna')\n",
    "plt.ylabel('Energia [a.u]')\n",
    "plt.xlabel('Czas [s]')\n",
    "plt.plot(Moment_in_time,Energia_calkowita_list,lw=1,label='Energia calkowita')\n",
    "plt.legend(bbox_to_anchor=(1., 1.05))\n",
    "plt.savefig('energie.png')\n",
    "plt.show()\n"
   ]
  }
 ],
 "metadata": {
  "accelerator": "GPU",
  "colab": {
   "collapsed_sections": [
    "e8MHpXARaxDa"
   ],
   "default_view": {},
   "name": "Gaz_symulacje.ipynb",
   "private_outputs": true,
   "provenance": [],
   "version": "0.3.2",
   "views": {}
  },
  "kernelspec": {
   "display_name": "Python 3",
   "language": "python",
   "name": "python3"
  },
  "language_info": {
   "codemirror_mode": {
    "name": "ipython",
    "version": 3
   },
   "file_extension": ".py",
   "mimetype": "text/x-python",
   "name": "python",
   "nbconvert_exporter": "python",
   "pygments_lexer": "ipython3",
   "version": "3.6.3"
  }
 },
 "nbformat": 4,
 "nbformat_minor": 1
}
